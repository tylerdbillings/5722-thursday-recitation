{
  "nbformat": 4,
  "nbformat_minor": 0,
  "metadata": {
    "colab": {
      "name": "5722_Rec1",
      "provenance": []
    },
    "kernelspec": {
      "name": "python3",
      "display_name": "Python 3"
    }
  },
  "cells": [
    {
      "cell_type": "code",
      "metadata": {
        "colab": {
          "base_uri": "https://localhost:8080/"
        },
        "id": "jE2NWY__dBJq",
        "outputId": "6a000852-d44a-4f63-8270-0467a6101d53"
      },
      "source": [
        "import scipy.constants as scc # useful library of scientific constants I use to solve problems\r\n",
        "wl = 0.150e-9 # nm to m\r\n",
        "dBR = scc.h/(scc.m_e*wl)\r\n",
        "print(\"%.3g m/s\" % dBR)"
      ],
      "execution_count": 21,
      "outputs": [
        {
          "output_type": "stream",
          "text": [
            "4.85e+06 m/s\n"
          ],
          "name": "stdout"
        }
      ]
    },
    {
      "cell_type": "code",
      "metadata": {
        "colab": {
          "base_uri": "https://localhost:8080/"
        },
        "id": "GWooxSNkgvPx",
        "outputId": "222e1910-4a64-4e4d-b1dd-c19e3c407bad"
      },
      "source": [
        "T = 6000 # K\r\n",
        "sigma = 5.67e-8 # see problem for units\r\n",
        "P = sigma*T**4\r\n",
        "sun_r = 7.00e8 # m\r\n",
        "sun_SA = 4*scc.pi*sun_r**2\r\n",
        "E = P*sun_SA\r\n",
        "print(\"%.3g W\" % E)"
      ],
      "execution_count": 20,
      "outputs": [
        {
          "output_type": "stream",
          "text": [
            "4.52e+26 W\n"
          ],
          "name": "stdout"
        }
      ]
    },
    {
      "cell_type": "code",
      "metadata": {
        "colab": {
          "base_uri": "https://localhost:8080/"
        },
        "id": "6sVRzykjms3q",
        "outputId": "ae831d03-6601-4233-ef1f-12860c525d5e"
      },
      "source": [
        "# h = J*s, nu = 1/s, therefore eV is a unit of energy!!!\r\n",
        "work = 5.65*scc.electron_volt\r\n",
        "min_nu = work/scc.h # solving for the work function\r\n",
        "print(\"%.3g Hz\" % min_nu) # top answer\r\n",
        "\r\n",
        "wl = 150e-9 # m\r\n",
        "nu = scc.speed_of_light/wl # relationships between wavelength and frequency\r\n",
        "E = scc.h*nu - work # energy of emitted electron\r\n",
        "v = ((2*E)/scc.m_e)**(1/2) # rearrange Einstein's equation to find velocity of emitted e\r\n",
        "print(\"%.3g m/s\" % v) # bottom answer"
      ],
      "execution_count": 19,
      "outputs": [
        {
          "output_type": "stream",
          "text": [
            "1.37e+15 Hz\n",
            "9.59e+05 m/s\n"
          ],
          "name": "stdout"
        }
      ]
    }
  ]
}